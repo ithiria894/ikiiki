{
 "cells": [
  {
   "cell_type": "code",
   "execution_count": 22,
   "metadata": {},
   "outputs": [
    {
     "name": "stdout",
     "output_type": "stream",
     "text": [
      "{0: ['F', 'C'], 1: ['A', 'D'], 2: ['B'], 3: ['E']}\n"
     ]
    }
   ],
   "source": [
    "import pandas as pd\n",
    "import random\n",
    "\n",
    "def distribute_with_pandas(people, num_groups):\n",
    "    # Create a DataFrame\n",
    "    df = pd.DataFrame(people, columns=['Person'])\n",
    "    \n",
    "    # Assign groups using modulo operation without a loop\n",
    "    df['Group'] = df.index % num_groups\n",
    "    \n",
    "    # Group by 'Group' and convert to list\n",
    "    groups = df.groupby('Group')['Person'].apply(list).to_dict()\n",
    "    \n",
    "    return groups\n",
    "\n",
    "# Example usage:\n",
    "people = ['A', 'B', 'C', 'D', 'E', 'F']\n",
    "random.shuffle(people)\n",
    "distributed_groups = distribute_with_pandas(people, 4)\n",
    "print(distributed_groups)\n"
   ]
  }
 ],
 "metadata": {
  "kernelspec": {
   "display_name": "Python 3",
   "language": "python",
   "name": "python3"
  },
  "language_info": {
   "codemirror_mode": {
    "name": "ipython",
    "version": 3
   },
   "file_extension": ".py",
   "mimetype": "text/x-python",
   "name": "python",
   "nbconvert_exporter": "python",
   "pygments_lexer": "ipython3",
   "version": "3.12.6"
  }
 },
 "nbformat": 4,
 "nbformat_minor": 2
}
